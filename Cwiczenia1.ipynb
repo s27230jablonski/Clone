{
  "nbformat": 4,
  "nbformat_minor": 0,
  "metadata": {
    "colab": {
      "provenance": [],
      "toc_visible": true,
      "collapsed_sections": [
        "lDAWFxi_nmqq"
      ],
      "include_colab_link": true
    },
    "kernelspec": {
      "name": "python3",
      "display_name": "Python 3"
    },
    "language_info": {
      "name": "python"
    }
  },
  "cells": [
    {
      "cell_type": "markdown",
      "metadata": {
        "id": "view-in-github",
        "colab_type": "text"
      },
      "source": [
        "<a href=\"https://colab.research.google.com/github/s27230jablonski/Clone/blob/main/Cwiczenia1.ipynb\" target=\"_parent\"><img src=\"https://colab.research.google.com/assets/colab-badge.svg\" alt=\"Open In Colab\"/></a>"
      ]
    },
    {
      "cell_type": "markdown",
      "source": [
        "# Ćwiczenia 1"
      ],
      "metadata": {
        "id": "Z-M--VIdAJZf"
      }
    },
    {
      "cell_type": "markdown",
      "source": [
        "W trakcie kilku pierwszych ćwiczeń zajmiemy się pracą z Google Colab. Nauczymy się podstaw dodawania nowych skryptów, ich zapisywania w repozytorium, a także podstaw pracy z typami danych, zmiennymi i innymi podstawowymi konstrukcjami, które znacie już z Javy."
      ],
      "metadata": {
        "id": "w0uXdskKAFN9"
      }
    },
    {
      "cell_type": "markdown",
      "source": [
        "## Wprowadzenie"
      ],
      "metadata": {
        "id": "ObUSshCKmC6N"
      }
    },
    {
      "cell_type": "markdown",
      "source": [
        "### Wyświetlanie danych"
      ],
      "metadata": {
        "id": "AdoGP3sjmG5r"
      }
    },
    {
      "cell_type": "code",
      "source": [
        "print(\"Hello, world!\")\n",
        "print(\"Cześć,\", \"Anna\")   # można łączyć kilka elementów"
      ],
      "metadata": {
        "colab": {
          "base_uri": "https://localhost:8080/"
        },
        "id": "QCJ3Rbi-l7HV",
        "outputId": "93434470-9233-44d3-9a79-0d1ddd276684"
      },
      "execution_count": null,
      "outputs": [
        {
          "output_type": "stream",
          "name": "stdout",
          "text": [
            "Hello, world!\n",
            "Cześć, Anna\n"
          ]
        }
      ]
    },
    {
      "cell_type": "markdown",
      "source": [
        "### Zmienne i typy danych"
      ],
      "metadata": {
        "id": "oXG-ghfMmK0d"
      }
    },
    {
      "cell_type": "markdown",
      "source": [
        " Zmienną tworzymy po prostu przez przypisanie wartości:"
      ],
      "metadata": {
        "id": "-B8HTxE4mQ5a"
      }
    },
    {
      "cell_type": "code",
      "source": [
        "x = 10          # liczba całkowita (int)\n",
        "y = 3.14        # liczba zmiennoprzecinkowa (float)\n",
        "name = \"Jan\"    # napis (str)\n",
        "student = True  # wartość logiczna (bool)"
      ],
      "metadata": {
        "id": "DtGHwiMsmNKD"
      },
      "execution_count": null,
      "outputs": []
    },
    {
      "cell_type": "markdown",
      "source": [
        "Sprawdzenie typu zmiennej:"
      ],
      "metadata": {
        "id": "ltyQAS5MmiZV"
      }
    },
    {
      "cell_type": "code",
      "source": [
        "print(type(x))     # <class 'int'>\n",
        "print(type(name))  # <class 'str'>"
      ],
      "metadata": {
        "colab": {
          "base_uri": "https://localhost:8080/"
        },
        "id": "9nsJQYK1mi-8",
        "outputId": "758cf317-d7cd-4ed8-9b3e-4156cf87f989"
      },
      "execution_count": null,
      "outputs": [
        {
          "output_type": "stream",
          "name": "stdout",
          "text": [
            "<class 'int'>\n",
            "<class 'str'>\n"
          ]
        }
      ]
    },
    {
      "cell_type": "markdown",
      "source": [
        "### Operatory arytmetyczne"
      ],
      "metadata": {
        "id": "FFMRo0BMmpu2"
      }
    },
    {
      "cell_type": "code",
      "source": [
        "a = 7\n",
        "b = 3\n",
        "print(a + b)    # dodawanie → 10\n",
        "print(a - b)    # odejmowanie → 4\n",
        "print(a * b)    # mnożenie → 21\n",
        "print(a / b)    # dzielenie → 2.333...\n",
        "print(a // b)   # dzielenie całkowite → 2\n",
        "print(a % b)    # reszta z dzielenia → 1\n",
        "print(a ** b)   # potęga → 343"
      ],
      "metadata": {
        "colab": {
          "base_uri": "https://localhost:8080/"
        },
        "id": "dmD729kEmsHX",
        "outputId": "ba0ddf74-49e0-4716-b604-f53635fb557b"
      },
      "execution_count": null,
      "outputs": [
        {
          "output_type": "stream",
          "name": "stdout",
          "text": [
            "10\n",
            "4\n",
            "21\n",
            "2.3333333333333335\n",
            "2\n",
            "1\n",
            "343\n"
          ]
        }
      ]
    },
    {
      "cell_type": "markdown",
      "source": [
        "### Operatory porównania"
      ],
      "metadata": {
        "id": "lPlG__bam4Q-"
      }
    },
    {
      "cell_type": "code",
      "source": [
        "print(5 > 3)   # True\n",
        "print(5 == 3)  # False\n",
        "print(5 != 3)  # True"
      ],
      "metadata": {
        "colab": {
          "base_uri": "https://localhost:8080/"
        },
        "id": "z5k3eaN4m6pJ",
        "outputId": "49e86cc3-a19a-410c-acda-65a50d929b07"
      },
      "execution_count": null,
      "outputs": [
        {
          "output_type": "stream",
          "name": "stdout",
          "text": [
            "True\n",
            "False\n",
            "True\n"
          ]
        }
      ]
    },
    {
      "cell_type": "markdown",
      "source": [
        "### Konwersje typów"
      ],
      "metadata": {
        "id": "Qwa3_FxGm-af"
      }
    },
    {
      "cell_type": "code",
      "source": [
        "x = \"123\"\n",
        "y = int(x)     # konwersja string → int\n",
        "print(y + 10)  # 133\n",
        "z = str(456)   # konwersja int → string\n",
        "print(\"Liczba to \" + z)"
      ],
      "metadata": {
        "colab": {
          "base_uri": "https://localhost:8080/"
        },
        "id": "_q3PZP1Im_4S",
        "outputId": "b9ec0e34-3962-4cb2-b516-b13095e72f1f"
      },
      "execution_count": null,
      "outputs": [
        {
          "output_type": "stream",
          "name": "stdout",
          "text": [
            "133\n",
            "Liczba to 456\n"
          ]
        }
      ]
    },
    {
      "cell_type": "markdown",
      "source": [
        "### Pobieranie danych od użytkownika"
      ],
      "metadata": {
        "id": "Ps8nblfVnMZk"
      }
    },
    {
      "cell_type": "code",
      "source": [
        "name = input(\"Podaj swoje imię: \")\n",
        "print(\"Cześć,\", name)\n",
        "year = int(input(\"Podaj rok urodzenia: \"))\n",
        "age = 2025 - year\n",
        "print(\"Masz\", age, \"lat.\")"
      ],
      "metadata": {
        "colab": {
          "base_uri": "https://localhost:8080/"
        },
        "id": "VKLm-WUknN5B",
        "outputId": "fa8d3efb-12ac-465b-9987-b24c324a37f8"
      },
      "execution_count": null,
      "outputs": [
        {
          "output_type": "stream",
          "name": "stdout",
          "text": [
            "Podaj swoje imię: Jan\n",
            "Cześć, Jan\n",
            "Podaj rok urodzenia: 2025\n",
            "Masz 0 lat.\n"
          ]
        }
      ]
    },
    {
      "cell_type": "markdown",
      "source": [
        "## Ćwiczenia 1-9"
      ],
      "metadata": {
        "id": "lDAWFxi_nmqq"
      }
    },
    {
      "cell_type": "markdown",
      "source": [
        "### Zadanie 1\n",
        "1. Utwórz zmienną o nazwie `x` i wartości `10`.\n",
        "2. Poleć komputerowi, aby pokazał wartość tej zmiennej. Spróbuj zrobić to na dwa różne sposoby: z użyciem funkcji `print` i bez niej.\n",
        "3. Spróbuj utworzyć cztery zmienne **a, b, c, d** i przypisać im wartości **10, 20, 30, 40** w jednym wierszu. Następnie wypisz wynik w konsoli."
      ],
      "metadata": {
        "id": "w4zsMJGjnoz5"
      }
    },
    {
      "cell_type": "code",
      "source": [
        "#1\n",
        "x = 10\n",
        "print(x)\n",
        "#2\n",
        "y = 11\n",
        "y\n",
        "#3\n",
        "a, b, c, d = 10, 20, 30, 40\n",
        "print(a, b, c, d)\n",
        "\n"
      ],
      "metadata": {
        "id": "gtIdIIVooMRF",
        "colab": {
          "base_uri": "https://localhost:8080/"
        },
        "outputId": "f11f5f71-4315-4ecc-972b-20830b48be0b"
      },
      "execution_count": null,
      "outputs": [
        {
          "output_type": "stream",
          "name": "stdout",
          "text": [
            "10\n",
            "10 20 30 40\n"
          ]
        }
      ]
    },
    {
      "cell_type": "markdown",
      "source": [
        "### Zadanie 2\n",
        "Napisz program, który:\n",
        "1. Przypisze do zmiennej `name` Twoje imię.\n",
        "2. Wyświetli komunikat w formie:\n",
        "``` Cześć, [imię]! ```"
      ],
      "metadata": {
        "id": "3GCTbPrxoWzO"
      }
    },
    {
      "cell_type": "code",
      "source": [
        "name = input(\"Podaj swoje imię: \")\n",
        "print(\"Cześć,\", name+\"!\")"
      ],
      "metadata": {
        "id": "kSdW01krogWx",
        "colab": {
          "base_uri": "https://localhost:8080/"
        },
        "outputId": "71fa520b-0f22-4f9c-8b75-1d3cc834b26a"
      },
      "execution_count": null,
      "outputs": [
        {
          "output_type": "stream",
          "name": "stdout",
          "text": [
            "Podaj swoje imię: Patryk\n",
            "Cześć, Patryk!\n"
          ]
        }
      ]
    },
    {
      "cell_type": "markdown",
      "source": [
        "### Zadanie 3\n",
        "1. Utwórz dwie zmienne: `a = 7`, `b = 3`\n",
        "2. Oblicz i wyświetl:\n",
        "    * sumę,\n",
        "    * różnicę,\n",
        "    * iloczyn,\n",
        "    * iloraz."
      ],
      "metadata": {
        "id": "T1ZLu6IForhk"
      }
    },
    {
      "cell_type": "code",
      "source": [
        "a = 7\n",
        "b = 3\n",
        "print(a + b)\n",
        "print(a - b)\n",
        "print(a * b)\n",
        "print(a / b)"
      ],
      "metadata": {
        "id": "MvN3LraXo44Y",
        "colab": {
          "base_uri": "https://localhost:8080/"
        },
        "outputId": "29b92bd1-b82d-4011-9d3c-57eebb6d1063"
      },
      "execution_count": null,
      "outputs": [
        {
          "output_type": "stream",
          "name": "stdout",
          "text": [
            "10\n",
            "4\n",
            "21\n",
            "2.3333333333333335\n"
          ]
        }
      ]
    },
    {
      "cell_type": "markdown",
      "source": [
        "### Zadanie 4\n",
        "1. Utwórz zmienną `x = \"123\"`.\n",
        "2. Zamień `x` na liczbę całkowitą i dodaj do niej 10.\n",
        "3. Wynik wyświetl jako napis w formie:\n",
        "```Wynik dodawania to: 133```"
      ],
      "metadata": {
        "id": "vQSCNzpupHCu"
      }
    },
    {
      "cell_type": "code",
      "source": [
        "x = \"123\"\n",
        "y = int(x) + 10\n",
        "print(\"Wynik dodawania to:\", y)\n"
      ],
      "metadata": {
        "id": "FVZrkGHdpWAG",
        "colab": {
          "base_uri": "https://localhost:8080/"
        },
        "outputId": "d15adf34-3338-4326-9406-f8843a76a939"
      },
      "execution_count": null,
      "outputs": [
        {
          "output_type": "stream",
          "name": "stdout",
          "text": [
            "Wynik dodawania to: 133\n"
          ]
        }
      ]
    },
    {
      "cell_type": "markdown",
      "source": [
        "### Zadanie 5\n",
        "Napisz program, który:\n",
        "1. Utworzy zmienne:\n",
        " * `wiek = 20`\n",
        " * `średnia = 4.75`\n",
        " * `student = True`\n",
        " * `imię = \"Anna\"`\n",
        "2. Dla każdej zmiennej wypisze jej typ, np.:\n",
        "```Zmienna wiek ma typ: <class 'int'>```"
      ],
      "metadata": {
        "id": "VkxxLwXSpfz_"
      }
    },
    {
      "cell_type": "code",
      "source": [
        "wiek = 20\n",
        "średnia = 4.75\n",
        "student = True\n",
        "imię = \"Anna\"\n",
        "print(\"Zmień wiek na typ:\",type(wiek))\n",
        "print(\"Zmień wiek na typ:\",type(średnia))\n",
        "print(\"Zmień wiek na typ:\",type(student))\n",
        "print(\"Zmień wiek na typ:\",type(imię))\n",
        "\n"
      ],
      "metadata": {
        "id": "O9NR0vCPpupn",
        "colab": {
          "base_uri": "https://localhost:8080/"
        },
        "outputId": "a557be7c-6237-49ff-f7bc-2676a8f90b75"
      },
      "execution_count": null,
      "outputs": [
        {
          "output_type": "stream",
          "name": "stdout",
          "text": [
            "Zmień wiek na typ: <class 'int'>\n",
            "Zmień wiek na typ: <class 'float'>\n",
            "Zmień wiek na typ: <class 'bool'>\n",
            "Zmień wiek na typ: <class 'str'>\n"
          ]
        }
      ]
    },
    {
      "cell_type": "markdown",
      "source": [
        "### Zadanie 6\n",
        "1. Poproś użytkownika o podanie swojego roku urodzenia.\n",
        "2. Oblicz jego wiek (zakładając, że mamy rok 2025).\n",
        "3. Wyświetl komunikat:\n",
        "```Masz [wiek] lat.```"
      ],
      "metadata": {
        "id": "j7zl9uEnp-gl"
      }
    },
    {
      "cell_type": "code",
      "source": [
        "year = int(input(\"Podaj rok urodzenia: \"))\n",
        "age = 2025 - year\n",
        "print(\"Masz\", age, \"lat.\")"
      ],
      "metadata": {
        "id": "A5Z6kohfqEgI",
        "colab": {
          "base_uri": "https://localhost:8080/"
        },
        "outputId": "69aadc4c-337d-4ea1-8edb-a0e45ddc04bf"
      },
      "execution_count": null,
      "outputs": [
        {
          "output_type": "stream",
          "name": "stdout",
          "text": [
            "Podaj rok urodzenia: 2003\n",
            "Masz 22 lat.\n"
          ]
        }
      ]
    },
    {
      "cell_type": "markdown",
      "source": [
        "### Zadanie 7\n",
        "Napisz funkcję `calculator(a, b, op)`, gdzie `op`, to znak: `+`, `-`, `*`, `/`.\n",
        "\n",
        "Funkcja powinna zwrócić wynik działania, np.:\n",
        "```\n",
        "calculator(4, 2, \"+\")  # 6\n",
        "calculator(4, 2, \"/\")  # 2.0\n",
        "```"
      ],
      "metadata": {
        "id": "kKPc0E-pqHql"
      }
    },
    {
      "cell_type": "code",
      "source": [
        "def calculator(a, b, op):\n",
        "  if op == '+':\n",
        "    return a + b\n",
        "  elif op == '-':\n",
        "    return a - b\n",
        "  elif op == '*':\n",
        "    return a * b\n",
        "  else:\n",
        "    return a / b\n",
        "\n",
        "print(calculator(4, 2, \"+\"))\n",
        "print(calculator(4, 2, \"-\"))\n",
        "print(calculator(4, 2, \"*\"))\n",
        "print(calculator(4, 2, \"/\"))"
      ],
      "metadata": {
        "id": "iXJwuywHqZ7K",
        "colab": {
          "base_uri": "https://localhost:8080/"
        },
        "outputId": "4dfc59a3-b070-46d2-966f-fba0f73fd3c7"
      },
      "execution_count": null,
      "outputs": [
        {
          "output_type": "stream",
          "name": "stdout",
          "text": [
            "6\n",
            "2\n",
            "8\n",
            "2.0\n"
          ]
        }
      ]
    },
    {
      "cell_type": "markdown",
      "source": [
        "### Zadanie 8\n",
        "Napisz funkcję `bmi(weight, height)`, która:\n",
        "* oblicza wskaźnik BMI wg wzoru: BMI = $\\frac{\\text{waga}}{(\\text{wzrost})^2}$\n",
        "* zwraca komunikat:\n",
        "  * `< 18.5` → \"niedowaga\"\n",
        "  * `18.5-24.9` → \"waga prawidłowa\"\n",
        "  * `25-29.9` → \"nadwaga\"\n"
      ],
      "metadata": {
        "id": "SmnSZBNcqa44"
      }
    },
    {
      "cell_type": "code",
      "source": [
        "def BMI(weight, height):\n",
        "  BMI= (weight / height ** 2)\n",
        "  if BMI < 18.5:\n",
        "    return \"Niedowaga\"\n",
        "  elif BMI < 24.9:\n",
        "    return \"Waga prawidłowa\"\n",
        "  else:\n",
        "    return \"Nadwaga\"\n",
        "\n",
        "print(BMI(70, 1.8))\n",
        "\n"
      ],
      "metadata": {
        "id": "aQ6yGtb3rHo-",
        "colab": {
          "base_uri": "https://localhost:8080/"
        },
        "outputId": "02d665f4-ca54-4ed5-f1fd-57fe175e8597"
      },
      "execution_count": null,
      "outputs": [
        {
          "output_type": "stream",
          "name": "stdout",
          "text": [
            "Waga prawidłowa\n"
          ]
        }
      ]
    },
    {
      "cell_type": "markdown",
      "source": [
        "### Zadanie 9\n",
        " Napisz funkcję `tax(income)`, która dla podanego dochodu (`income`) obliczy podatek wg uproszczonego systemu:\n",
        "* do 30 000 zł → 10%\n",
        "* od 30 001 do 100 000 zł → 20%\n",
        "* powyżej 100 000 zł → 30%"
      ],
      "metadata": {
        "id": "BoWjwX_V7vtO"
      }
    },
    {
      "cell_type": "code",
      "source": [
        "def TAX(income):\n",
        "  if income < 30000:\n",
        "    return (\"Podatek wynosi\", income * 0.1)\n",
        "  elif income < 100000:\n",
        "    return (\"Podatek wynosi\", income * 0.2)\n",
        "  else:\n",
        "    return (\"Podatek wynosi\", income * 0.3)\n",
        "\n",
        "print(TAX(50000))"
      ],
      "metadata": {
        "id": "l6a3woqo8MYA",
        "colab": {
          "base_uri": "https://localhost:8080/"
        },
        "outputId": "e9ff042b-33fe-4791-d248-832fc87268df"
      },
      "execution_count": null,
      "outputs": [
        {
          "output_type": "stream",
          "name": "stdout",
          "text": [
            "('Podatek wynosi', 10000.0)\n"
          ]
        }
      ]
    },
    {
      "cell_type": "markdown",
      "source": [
        "##  Pętle, tablice, kolekcje"
      ],
      "metadata": {
        "id": "7bLrzBjg8Gxw"
      }
    },
    {
      "cell_type": "markdown",
      "source": [
        "### Tworzenie listy"
      ],
      "metadata": {
        "id": "XdDUAG8w8OeX"
      }
    },
    {
      "cell_type": "code",
      "source": [
        "numbers = [1, 2, 3, 4, 5]   # lista z wartościami\n",
        "empty = []                  # pusta lista\n",
        "mixed = [1, \"tekst\", 3.14]  # lista z różnymi typami"
      ],
      "metadata": {
        "id": "o5IhvAfN8RZD"
      },
      "execution_count": null,
      "outputs": []
    },
    {
      "cell_type": "markdown",
      "source": [
        "### Podstawowe operacje"
      ],
      "metadata": {
        "id": "GMYDDjoE8ZPs"
      }
    },
    {
      "cell_type": "code",
      "source": [
        "numbers = [10, 20, 30, 40]\n",
        "\n",
        "print(numbers[0])           # dostęp do elementu → 10\n",
        "print(numbers[-1])          # ostatni element → 40\n",
        "\n",
        "numbers.append(50)          # dodanie elementu na końcu\n",
        "numbers.insert(1, 15)       # wstawienie elementu na indeks\n",
        "numbers.remove(30)          # usuwa pierwsze wystąpienie 30\n",
        "numbers.pop()               # usuwa ostatni element\n",
        "numbers.sort()              # sortowanie rosnąco\n",
        "numbers.reverse()           # odwrócenie kolejności\n",
        "print(len(numbers))         # długość listy"
      ],
      "metadata": {
        "colab": {
          "base_uri": "https://localhost:8080/"
        },
        "id": "jITFcgnR8bYn",
        "outputId": "c28ec67e-7b4a-45ce-b5bb-ec33b1428733"
      },
      "execution_count": null,
      "outputs": [
        {
          "output_type": "stream",
          "name": "stdout",
          "text": [
            "10\n",
            "40\n",
            "4\n"
          ]
        }
      ]
    },
    {
      "cell_type": "markdown",
      "source": [
        "### Wyszukiwanie i sprawdzanie"
      ],
      "metadata": {
        "id": "yM0wwlH48atX"
      }
    },
    {
      "cell_type": "code",
      "source": [
        "print(20 in numbers)        # True, sprawdza obecność\n",
        "print(numbers.index(40))    # indeks elementu 40"
      ],
      "metadata": {
        "colab": {
          "base_uri": "https://localhost:8080/"
        },
        "id": "vFR5UxSs8qwz",
        "outputId": "fbe75bc4-9d2f-4853-d4dc-df8dc856545f"
      },
      "execution_count": null,
      "outputs": [
        {
          "output_type": "stream",
          "name": "stdout",
          "text": [
            "True\n",
            "0\n"
          ]
        }
      ]
    },
    {
      "cell_type": "markdown",
      "source": [
        "### Slicing (wycinanie fragmentów)"
      ],
      "metadata": {
        "id": "zn1T3osJ8u1j"
      }
    },
    {
      "cell_type": "code",
      "source": [
        "print(numbers[1:3])   # od indeksu 1 do 2\n",
        "print(numbers[:2])    # od początku do 1\n",
        "print(numbers[2:])    # od indeksu 2 do k\n",
        "print(numbers[::2])   # co drugi element"
      ],
      "metadata": {
        "colab": {
          "base_uri": "https://localhost:8080/"
        },
        "id": "8LTBCG9V8xg6",
        "outputId": "1ff04968-2fd4-48ba-aad8-0fc724607535"
      },
      "execution_count": null,
      "outputs": [
        {
          "output_type": "stream",
          "name": "stdout",
          "text": [
            "[20, 15]\n",
            "[40, 20]\n",
            "[15, 10]\n",
            "[40, 15]\n"
          ]
        }
      ]
    },
    {
      "cell_type": "markdown",
      "source": [
        "### Iteracja po elementach"
      ],
      "metadata": {
        "id": "OAxCun9384Zm"
      }
    },
    {
      "cell_type": "code",
      "source": [
        "for x in numbers:\n",
        " print(x)"
      ],
      "metadata": {
        "colab": {
          "base_uri": "https://localhost:8080/"
        },
        "id": "pKr6xkfF857t",
        "outputId": "4f3598dd-eeb9-497f-d320-8f4cdc4e86ea"
      },
      "execution_count": null,
      "outputs": [
        {
          "output_type": "stream",
          "name": "stdout",
          "text": [
            "40\n",
            "20\n",
            "15\n",
            "10\n"
          ]
        }
      ]
    },
    {
      "cell_type": "markdown",
      "source": [
        "### Iteracja po indeksach"
      ],
      "metadata": {
        "id": "oa2QQdxs886u"
      }
    },
    {
      "cell_type": "code",
      "source": [
        "for i in range(len(numbers)):\n",
        " print(i, numbers[i])"
      ],
      "metadata": {
        "colab": {
          "base_uri": "https://localhost:8080/"
        },
        "id": "MTRC5zxw8-MW",
        "outputId": "23ddc730-0952-4531-c65a-3d82e7a86e0b"
      },
      "execution_count": null,
      "outputs": [
        {
          "output_type": "stream",
          "name": "stdout",
          "text": [
            "0 40\n",
            "1 20\n",
            "2 15\n",
            "3 10\n"
          ]
        }
      ]
    },
    {
      "cell_type": "markdown",
      "source": [
        "### Enumeracja (indeks + wartość jednocześnie)"
      ],
      "metadata": {
        "id": "MCJsrNut8_vn"
      }
    },
    {
      "cell_type": "code",
      "source": [
        "for i, value in enumerate(numbers):\n",
        " print(i, value)"
      ],
      "metadata": {
        "colab": {
          "base_uri": "https://localhost:8080/"
        },
        "id": "YkN-5wSp9BFk",
        "outputId": "a6a71a67-2fcc-4d75-ffc7-48923c439a0d"
      },
      "execution_count": null,
      "outputs": [
        {
          "output_type": "stream",
          "name": "stdout",
          "text": [
            "0 40\n",
            "1 20\n",
            "2 15\n",
            "3 10\n"
          ]
        }
      ]
    },
    {
      "cell_type": "markdown",
      "source": [
        "### While loop"
      ],
      "metadata": {
        "id": "aaazWoE59CPg"
      }
    },
    {
      "cell_type": "code",
      "source": [
        " i = 0\n",
        " while i < len(numbers):\n",
        "  print(numbers[i])\n",
        "  i += 1"
      ],
      "metadata": {
        "colab": {
          "base_uri": "https://localhost:8080/"
        },
        "id": "iIz3Jvog9D-a",
        "outputId": "63719364-fc7c-4dd5-8341-3578b01b94e3"
      },
      "execution_count": null,
      "outputs": [
        {
          "output_type": "stream",
          "name": "stdout",
          "text": [
            "40\n",
            "20\n",
            "15\n",
            "10\n"
          ]
        }
      ]
    },
    {
      "cell_type": "markdown",
      "source": [
        "### List comprehension"
      ],
      "metadata": {
        "id": "AQkkdAS09GJX"
      }
    },
    {
      "cell_type": "code",
      "source": [
        "squares = [x**2 for x in numbers]\n",
        "print(squares)"
      ],
      "metadata": {
        "colab": {
          "base_uri": "https://localhost:8080/"
        },
        "id": "kw9zv6xM9HcS",
        "outputId": "8c8c4d2f-df86-4a07-95df-5c286afc3fe1"
      },
      "execution_count": null,
      "outputs": [
        {
          "output_type": "stream",
          "name": "stdout",
          "text": [
            "[1600, 400, 225, 100]\n"
          ]
        }
      ]
    },
    {
      "cell_type": "markdown",
      "source": [
        "## Ćwiczenia 10-14\n"
      ],
      "metadata": {
        "id": "5ZpI3uW79N4L"
      }
    },
    {
      "cell_type": "markdown",
      "source": [
        "### Zadanie 10 - Odwracanie listy\n",
        " Napisz funkcję, która **odwróci listę** bez używania metody `reverse()` ani ` :-1`.\n",
        "\n",
        " (np. `[\"a\", \"b\", \"c\", \"d\"] → [\"d\", \"c\", \"b\", \"a\"]`)"
      ],
      "metadata": {
        "id": "NR8_pZh39SlW"
      }
    },
    {
      "cell_type": "code",
      "source": [
        "def customReverse(list):\n",
        "  for i in range(int(len(list)/2)):\n",
        "    tmp = list[i]\n",
        "    list[i] = list[len(list) - 1 - i]\n",
        "    list[len(list) - 1 - i] = tmp\n",
        "\n",
        "\n",
        "list = [\"a\", \"b\", \"c\", \"d\"]\n",
        "customReverse(list)\n",
        "print(list)"
      ],
      "metadata": {
        "id": "8RR79mx39l9m",
        "colab": {
          "base_uri": "https://localhost:8080/"
        },
        "outputId": "da7b2892-5648-4845-d735-eaba9c94bb6b"
      },
      "execution_count": null,
      "outputs": [
        {
          "output_type": "stream",
          "name": "stdout",
          "text": [
            "['d', 'c', 'b', 'a']\n"
          ]
        }
      ]
    },
    {
      "cell_type": "markdown",
      "source": [
        "### Zadanie 11 - Zliczanie wystąpień\n",
        "Dla listy:\n",
        "\n",
        "``` fruits = [\"apple\", \"banana\", \"apple\", \"orange\", \"banana\", \"apple\"] ```\n",
        "\n",
        "\n",
        "Policz, ile razy występuje każdy owoc i zapisz wynik w słowniku, np.:\n",
        "\n",
        "```  {\"apple\": 3, \"banana\": 2, \"orange\": 1} ```"
      ],
      "metadata": {
        "id": "NqSEMiUI9Wqo"
      }
    },
    {
      "cell_type": "code",
      "source": [
        "fruits = [\"apple\", \"banana\", \"apple\", \"orange\", \"banana\", \"apple\"]\n",
        "def count(fruits):\n",
        "  fruit_count = {}\n",
        "  for fruit in fruits:\n",
        "    if fruit in fruit_count:\n",
        "      fruit_count[fruit] += 1\n",
        "    else:\n",
        "      fruit_count[fruit] = 1\n",
        "  return fruit_count\n",
        "\n",
        "print(count(fruits))"
      ],
      "metadata": {
        "id": "GZRCP0Yx94Te",
        "colab": {
          "base_uri": "https://localhost:8080/"
        },
        "outputId": "10f0a1a9-d779-436f-9cc0-a9b0d4534bf3"
      },
      "execution_count": 11,
      "outputs": [
        {
          "output_type": "stream",
          "name": "stdout",
          "text": [
            "{'apple': 3, 'banana': 2, 'orange': 1}\n"
          ]
        }
      ]
    },
    {
      "cell_type": "markdown",
      "source": [
        "### Zadanie 12 - Normalizacja danych\n",
        "Masz listę wartości:\n",
        "```  data = [10, 20, 30, 40, 50] ```\n",
        "\n",
        "Napisz funkcję `normalize(data)`, która zwróci listę wartości przeskalowanych do przedziału `[0, 1]` według wzoru:\n",
        "\n",
        "$ x' = \\frac{x - min}{max - min}$"
      ],
      "metadata": {
        "id": "5HmVLCM995Kl"
      }
    },
    {
      "cell_type": "code",
      "source": [
        "data = [10, 20, 30, 40, 50]\n",
        "\n",
        "def normalize(data):\n",
        "  normalized_data = normalize(data)\n",
        "  min_data = min(data)\n",
        "  max_data = max(data)\n",
        "  return [(x-min_data)/(max_data-min_data) for x in data]\n",
        "\n",
        "print(normalized_data)"
      ],
      "metadata": {
        "id": "Kx4ApUK4-Zgy",
        "colab": {
          "base_uri": "https://localhost:8080/"
        },
        "outputId": "80068ac0-a5d0-4297-a11d-4611bedcc9ac"
      },
      "execution_count": 20,
      "outputs": [
        {
          "output_type": "stream",
          "name": "stdout",
          "text": [
            "[0.0, 0.25, 0.5, 0.75, 1.0]\n"
          ]
        }
      ]
    },
    {
      "cell_type": "markdown",
      "source": [
        "### Zadanie 13 - Bag of Words (liczenie słów)\n",
        "Masz listę zdań:\n",
        "```\n",
        "sentences = [\n",
        " \"I like Python\",\n",
        " \"Python is great for AI\",\n",
        " \"I like AI\"\n",
        "]\n",
        " ```\n",
        "\n",
        "Napisz funkcję `bag_of_words(sentences)`, która zwróci słownik z częstością występowania każdego słowa."
      ],
      "metadata": {
        "id": "MAnm4NFr-bBf"
      }
    },
    {
      "cell_type": "code",
      "source": [
        "sentences = [\n",
        " \"I like Python\",\n",
        " \"Python is great for AI\",\n",
        " \"I like AI\"\n",
        "]\n",
        "def bag_of_words(sentences):\n",
        "  words = {}\n",
        "  for sentence in sentences:\n",
        "    for word in sentence.split():\n",
        "      words[word] = words.get(word, 0) + 1\n",
        "  return words\n",
        "\n",
        "print(bag_of_words(sentences))"
      ],
      "metadata": {
        "id": "j_rKdrv_-qF4",
        "colab": {
          "base_uri": "https://localhost:8080/"
        },
        "outputId": "12130e1f-0842-4c22-b647-e0400a0a538f"
      },
      "execution_count": 3,
      "outputs": [
        {
          "output_type": "stream",
          "name": "stdout",
          "text": [
            "{'I': 2, 'like': 2, 'Python': 2, 'is': 1, 'great': 1, 'for': 1, 'AI': 2}\n"
          ]
        }
      ]
    },
    {
      "cell_type": "markdown",
      "source": [
        "### Zadanie 14 - Liczby doskonałe\n",
        "Napisz funkcję `is_perfect(n)`, która sprawdzi, czy liczba jest **doskonała**, czyli równa sumie swoich dzielników właściwych.\n",
        "\n",
        "Przykład: `6` → dzielniki 1+2+3 = 6 → liczba doskonała."
      ],
      "metadata": {
        "id": "-OYCHz2Y-rko"
      }
    },
    {
      "cell_type": "code",
      "source": [
        "from __future__ import division\n",
        "def is_perfect(n):\n",
        "  divisors = [i for i in range(1, n) if n % i == 0]\n",
        "  return sum(divisors) == n\n",
        "\n",
        "print(is_perfect(6))\n",
        "print(is_perfect(10))\n",
        "print(is_perfect(18))"
      ],
      "metadata": {
        "id": "CkSi5HzX-6jX",
        "colab": {
          "base_uri": "https://localhost:8080/"
        },
        "outputId": "4543f859-d282-4d7f-b41b-220cdcad24bb"
      },
      "execution_count": 4,
      "outputs": [
        {
          "output_type": "stream",
          "name": "stdout",
          "text": [
            "True\n",
            "False\n",
            "False\n"
          ]
        }
      ]
    }
  ]
}